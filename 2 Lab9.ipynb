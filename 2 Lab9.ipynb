{
 "cells": [
  {
   "cell_type": "markdown",
   "id": "f60b1f5e",
   "metadata": {},
   "source": []
  },
  {
   "cell_type": "markdown",
   "id": "4b32d028",
   "metadata": {},
   "source": [
    "https://github.com/ArielaMishaanCohen/17-Lab-9-SparkML.git"
   ]
  }
 ],
 "metadata": {
  "language_info": {
   "name": "python"
  }
 },
 "nbformat": 4,
 "nbformat_minor": 5
}

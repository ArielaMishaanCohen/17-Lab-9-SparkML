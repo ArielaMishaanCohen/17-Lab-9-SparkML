{
 "cells": [
  {
   "cell_type": "markdown",
   "id": "7f0aeb1a",
   "metadata": {},
   "source": [
    "<h1 style=\"text-align:center;\"><b>Laboratorio 9</b></h1>\n",
    "<h3 style=\"text-align:center;\">Alina Carías (22539), Ariela Mishaan (22052), Marcos Díaz (221102) </h3>"
   ]
  },
  {
   "cell_type": "markdown",
   "id": "4b32d028",
   "metadata": {},
   "source": [
    "https://github.com/ArielaMishaanCohen/17-Lab-9-SparkML.git"
   ]
  },
  {
   "cell_type": "markdown",
   "id": "123fb945",
   "metadata": {},
   "source": [
    "# Librerías"
   ]
  },
  {
   "cell_type": "code",
   "execution_count": 1,
   "id": "bd837610",
   "metadata": {},
   "outputs": [],
   "source": [
    "import pandas as pd\n",
    "import pyspark \n",
    "from pyspark import SparkContext\n",
    "from pyspark.ml.feature import VectorAssembler\n",
    "from pyspark.sql import SparkSession\n",
    "from pyspark.sql import functions as F\n"
   ]
  },
  {
   "cell_type": "code",
   "execution_count": 2,
   "id": "bb64457c",
   "metadata": {},
   "outputs": [
    {
     "name": "stderr",
     "output_type": "stream",
     "text": [
      "25/10/09 14:50:49 WARN Utils: Your hostname, Arielas-MacBook-Pro.local resolves to a loopback address: 127.0.0.1; using 10.100.8.12 instead (on interface en0)\n",
      "25/10/09 14:50:49 WARN Utils: Set SPARK_LOCAL_IP if you need to bind to another address\n",
      "Setting default log level to \"WARN\".\n",
      "To adjust logging level use sc.setLogLevel(newLevel). For SparkR, use setLogLevel(newLevel).\n",
      "25/10/09 14:51:00 WARN NativeCodeLoader: Unable to load native-hadoop library for your platform... using builtin-java classes where applicable\n"
     ]
    }
   ],
   "source": [
    "spark = SparkSession.builder.appName(\"Lab 9\").getOrCreate()"
   ]
  },
  {
   "cell_type": "markdown",
   "id": "fde70cf3",
   "metadata": {},
   "source": [
    "# Análisis Exploratorio Avanzado y Segmentación"
   ]
  },
  {
   "cell_type": "markdown",
   "id": "680704e2",
   "metadata": {},
   "source": [
    "## Preparación"
   ]
  },
  {
   "cell_type": "code",
   "execution_count": 3,
   "id": "aaebb975",
   "metadata": {},
   "outputs": [],
   "source": [
    "df_fallecidos = spark.read.format('csv').option('header', 'true').option('inferSchema', 'true').load('ine/fallecidos_junto.csv')\n",
    "df_hechos = spark.read.format('csv').option('header', 'true').option('inferSchema', 'true').load('ine/hechos_junto.csv')\n",
    "df_vehiculos = spark.read.format('csv').option('header', 'true').option('inferSchema', 'true').load('ine/vehiculos_junto.csv')"
   ]
  },
  {
   "cell_type": "markdown",
   "id": "1b1e1d39",
   "metadata": {},
   "source": [
    "### Fallecidos"
   ]
  },
  {
   "cell_type": "code",
   "execution_count": 4,
   "id": "af23a6e7",
   "metadata": {},
   "outputs": [
    {
     "data": {
      "text/plain": [
       "StructType([StructField('núm_corre0', DoubleType(), True), StructField('año_ocu', IntegerType(), True), StructField('mes_ocu', StringType(), True), StructField('día_ocu', IntegerType(), True), StructField('día_sem_ocu', IntegerType(), True), StructField('hora_ocu', IntegerType(), True), StructField('g_hora', IntegerType(), True), StructField('g_hora_5', IntegerType(), True), StructField('depto_ocu', IntegerType(), True), StructField('mupio_ocu', StringType(), True), StructField('área_geo_ocu', DoubleType(), True), StructField('zona_ocu', IntegerType(), True), StructField('sexo_per', IntegerType(), True), StructField('edad_per', IntegerType(), True), StructField('mayor_menor', IntegerType(), True), StructField('g_edad_80ymás', StringType(), True), StructField('g_edad_60ymás', IntegerType(), True), StructField('edad_quinquenales', StringType(), True), StructField('fall_les', IntegerType(), True), StructField('int_o_noint', IntegerType(), True), StructField('tipo_veh', IntegerType(), True), StructField('marca_veh', IntegerType(), True), StructField('color_veh', IntegerType(), True), StructField('modelo_veh', IntegerType(), True), StructField('g_modelo_veh', IntegerType(), True), StructField('tipo_eve', IntegerType(), True), StructField('Núm_corre26', DoubleType(), True), StructField('zona_ciudad', DoubleType(), True), StructField('num_corre', DoubleType(), True)])"
      ]
     },
     "execution_count": 4,
     "metadata": {},
     "output_type": "execute_result"
    }
   ],
   "source": [
    "df_fallecidos.schema"
   ]
  },
  {
   "cell_type": "code",
   "execution_count": 5,
   "id": "bb27d54e",
   "metadata": {},
   "outputs": [
    {
     "name": "stdout",
     "output_type": "stream",
     "text": [
      "+----------+-------+-------+-------+-----------+--------+------+--------+---------+---------+------------+--------+--------+--------+-----------+-------------+-------------+-----------------+--------+-----------+--------+---------+---------+----------+------------+--------+-----------+-----------+---------+\n",
      "|núm_corre0|año_ocu|mes_ocu|día_ocu|día_sem_ocu|hora_ocu|g_hora|g_hora_5|depto_ocu|mupio_ocu|área_geo_ocu|zona_ocu|sexo_per|edad_per|mayor_menor|g_edad_80ymás|g_edad_60ymás|edad_quinquenales|fall_les|int_o_noint|tipo_veh|marca_veh|color_veh|modelo_veh|g_modelo_veh|tipo_eve|Núm_corre26|zona_ciudad|num_corre|\n",
      "+----------+-------+-------+-------+-----------+--------+------+--------+---------+---------+------------+--------+--------+--------+-----------+-------------+-------------+-----------------+--------+-----------+--------+---------+---------+----------+------------+--------+-----------+-----------+---------+\n",
      "|       1.0|   2015|      1|      1|          4|      16|     3|       2|        1|      101|         1.0|       1|       1|      19|          1|            2|            2|                4|       2|          1|       4|       21|        5|      2011|           5|       1|       NULL|       NULL|     NULL|\n",
      "|       2.0|   2015|      1|      1|          4|      16|     3|       2|        1|      101|         1.0|       1|       2|      19|          1|            2|            2|                4|       2|          1|       4|       21|        5|      2011|           5|       1|       NULL|       NULL|     NULL|\n",
      "|       3.0|   2015|      1|      1|          4|      22|     4|       3|        1|      101|         1.0|      16|       1|      32|          1|            5|            5|                7|       2|          1|       4|       21|        5|      9999|           6|       1|       NULL|       NULL|     NULL|\n",
      "|       4.0|   2015|      1|      1|          4|       2|     1|       1|        1|      101|         1.0|       7|       1|      18|          1|            2|            2|                4|       2|          1|       4|       21|        1|      2000|           4|       1|       NULL|       NULL|     NULL|\n",
      "|       5.0|   2015|      1|      1|          4|       9|     2|       1|        1|      101|         1.0|      12|       1|      20|          1|            3|            3|                5|       1|          2|       4|       40|        5|      9999|           6|       2|       NULL|       NULL|     NULL|\n",
      "|       6.0|   2015|      1|      1|          4|       1|     1|       1|        1|      115|         1.0|       8|       1|      23|          1|            3|            3|                5|       1|          2|       1|       34|        4|      9999|           6|       2|       NULL|       NULL|     NULL|\n",
      "|       7.0|   2015|      1|      1|          4|       8|     2|       1|        1|      114|         2.0|      99|       1|      19|          1|            2|            2|                4|       2|          1|       4|       41|        4|      9999|           6|       3|       NULL|       NULL|     NULL|\n",
      "|       8.0|   2015|      1|      1|          4|       8|     2|       1|        1|      114|         2.0|      99|       1|      15|          2|            2|            2|                4|       2|          1|       4|       41|        4|      9999|           6|       3|       NULL|       NULL|     NULL|\n",
      "|       9.0|   2015|      1|      1|          4|       8|     2|       1|        1|      114|         2.0|      99|       2|      52|          1|            9|            9|               11|       2|          1|       4|       41|        4|      9999|           6|       3|       NULL|       NULL|     NULL|\n",
      "|      10.0|   2015|      1|      1|          4|      17|     3|       2|        1|      110|         2.0|      99|       1|      23|          1|            3|            3|                5|       2|          1|       4|       21|        1|      9999|           6|       1|       NULL|       NULL|     NULL|\n",
      "+----------+-------+-------+-------+-----------+--------+------+--------+---------+---------+------------+--------+--------+--------+-----------+-------------+-------------+-----------------+--------+-----------+--------+---------+---------+----------+------------+--------+-----------+-----------+---------+\n",
      "only showing top 10 rows\n",
      "\n"
     ]
    },
    {
     "name": "stderr",
     "output_type": "stream",
     "text": [
      "25/10/09 14:51:12 WARN SparkStringUtils: Truncated the string representation of a plan since it was too large. This behavior can be adjusted by setting 'spark.sql.debug.maxToStringFields'.\n",
      "25/10/09 14:51:12 WARN CSVHeaderChecker: CSV header does not conform to the schema.\n",
      " Header: núm_corre, año_ocu, mes_ocu, día_ocu, día_sem_ocu, hora_ocu, g_hora, g_hora_5, depto_ocu, mupio_ocu, área_geo_ocu, zona_ocu, sexo_per, edad_per, mayor_menor, g_edad_80ymás, g_edad_60ymás, edad_quinquenales, fall_les, int_o_noint, tipo_veh, marca_veh, color_veh, modelo_veh, g_modelo_veh, tipo_eve, Núm_corre, zona_ciudad, num_corre\n",
      " Schema: núm_corre0, año_ocu, mes_ocu, día_ocu, día_sem_ocu, hora_ocu, g_hora, g_hora_5, depto_ocu, mupio_ocu, área_geo_ocu, zona_ocu, sexo_per, edad_per, mayor_menor, g_edad_80ymás, g_edad_60ymás, edad_quinquenales, fall_les, int_o_noint, tipo_veh, marca_veh, color_veh, modelo_veh, g_modelo_veh, tipo_eve, Núm_corre26, zona_ciudad, num_corre\n",
      "Expected: núm_corre0 but found: núm_corre\n",
      "CSV file: file:///Users/arielamishaancohen/Documents/UVG/Clases/Semestre%208%20(2025)/Data%20Science/Proyectos%20y%20Tareas/17-Lab-9-SparkML/ine/fallecidos_junto.csv\n"
     ]
    }
   ],
   "source": [
    "df_fallecidos.show(10)"
   ]
  },
  {
   "cell_type": "code",
   "execution_count": 6,
   "id": "8e674388",
   "metadata": {},
   "outputs": [
    {
     "data": {
      "text/plain": [
       "91367"
      ]
     },
     "execution_count": 6,
     "metadata": {},
     "output_type": "execute_result"
    }
   ],
   "source": [
    "df_fallecidos.count()"
   ]
  },
  {
   "cell_type": "markdown",
   "id": "3316617e",
   "metadata": {},
   "source": [
    "### Hechos"
   ]
  },
  {
   "cell_type": "code",
   "execution_count": 7,
   "id": "4d29cf0d",
   "metadata": {},
   "outputs": [
    {
     "data": {
      "text/plain": [
       "StructType([StructField('núm_corre', DoubleType(), True), StructField('año_ocu', IntegerType(), True), StructField('mes_ocu', StringType(), True), StructField('día_ocu', IntegerType(), True), StructField('hora_ocu', StringType(), True), StructField('día_sem_ocu', StringType(), True), StructField('g_hora', StringType(), True), StructField('g_hora_5', StringType(), True), StructField('depto_ocu', StringType(), True), StructField('mupio_ocu', StringType(), True), StructField('área_geo_ocu', DoubleType(), True), StructField('zona_ocu', StringType(), True), StructField('tipo_veh', StringType(), True), StructField('marca_veh', StringType(), True), StructField('color_veh', StringType(), True), StructField('modelo_veh', StringType(), True), StructField('tipo_eve', StringType(), True), StructField('g_modelo_veh', StringType(), True)])"
      ]
     },
     "execution_count": 7,
     "metadata": {},
     "output_type": "execute_result"
    }
   ],
   "source": [
    "df_hechos.schema"
   ]
  },
  {
   "cell_type": "code",
   "execution_count": 8,
   "id": "e9eddcef",
   "metadata": {},
   "outputs": [
    {
     "name": "stdout",
     "output_type": "stream",
     "text": [
      "+---------+-------+-------+-------+--------+-----------+------+--------+---------+---------+------------+--------+--------+---------+---------+----------+--------+------------+\n",
      "|núm_corre|año_ocu|mes_ocu|día_ocu|hora_ocu|día_sem_ocu|g_hora|g_hora_5|depto_ocu|mupio_ocu|área_geo_ocu|zona_ocu|tipo_veh|marca_veh|color_veh|modelo_veh|tipo_eve|g_modelo_veh|\n",
      "+---------+-------+-------+-------+--------+-----------+------+--------+---------+---------+------------+--------+--------+---------+---------+----------+--------+------------+\n",
      "|      1.0|   2015|      1|      1|      16|          4|     3|       2|        1|      101|         1.0|       1|       4|       21|        5|      2011|       1|           5|\n",
      "|      2.0|   2015|      1|      1|      22|          4|     4|       3|        1|      101|         1.0|      16|       4|       21|        5|      9999|       1|           6|\n",
      "|      3.0|   2015|      1|      1|       2|          4|     1|       1|        1|      101|         1.0|       7|       3|       44|        6|      9999|       1|           6|\n",
      "|      4.0|   2015|      1|      1|       9|          4|     2|       1|        1|      101|         1.0|      12|       4|       40|        5|      9999|       2|           6|\n",
      "|      5.0|   2015|      1|      1|       1|          4|     1|       1|        1|      115|         1.0|       8|       1|       34|        4|      9999|       2|           6|\n",
      "|      6.0|   2015|      1|      1|       8|          4|     2|       1|        1|      114|         2.0|      99|       4|       41|        4|      9999|       3|           6|\n",
      "|      7.0|   2015|      1|      1|      17|          4|     3|       2|        1|      110|         2.0|      99|       4|       21|        1|      9999|       1|           6|\n",
      "|      8.0|   2015|      1|      1|      10|          4|     2|       1|        6|      602|         2.0|      99|       4|       99|        5|      9999|       3|           6|\n",
      "|      9.0|   2015|      1|      1|      20|          4|     4|       3|        6|      602|         2.0|      99|       3|       44|        1|      2015|       1|           5|\n",
      "|     10.0|   2015|      1|      1|       7|          4|     2|       1|       11|     1101|         2.0|      99|       3|       44|        2|      2001|       3|           4|\n",
      "+---------+-------+-------+-------+--------+-----------+------+--------+---------+---------+------------+--------+--------+---------+---------+----------+--------+------------+\n",
      "only showing top 10 rows\n",
      "\n"
     ]
    }
   ],
   "source": [
    "df_hechos.show(10)"
   ]
  },
  {
   "cell_type": "code",
   "execution_count": 9,
   "id": "cc4caf67",
   "metadata": {},
   "outputs": [
    {
     "data": {
      "text/plain": [
       "64784"
      ]
     },
     "execution_count": 9,
     "metadata": {},
     "output_type": "execute_result"
    }
   ],
   "source": [
    "df_hechos.count()"
   ]
  },
  {
   "cell_type": "markdown",
   "id": "98a6159a",
   "metadata": {},
   "source": [
    "### Vehículos"
   ]
  },
  {
   "cell_type": "code",
   "execution_count": null,
   "id": "4843ae1b",
   "metadata": {},
   "outputs": [
    {
     "data": {
      "text/plain": [
       "StructType([StructField('año_ocu', IntegerType(), True), StructField('num_corre', IntegerType(), True), StructField('mes_ocu', IntegerType(), True), StructField('día_ocu', IntegerType(), True), StructField('día_sem_ocu', IntegerType(), True), StructField('hora_ocu', IntegerType(), True), StructField('g_hora', IntegerType(), True), StructField('g_hora_5', IntegerType(), True), StructField('depto_ocu', IntegerType(), True), StructField('mupio_ocu', StringType(), True), StructField('área_geo_ocu', DoubleType(), True), StructField('zona_ocu', IntegerType(), True), StructField('sexo_per', IntegerType(), True), StructField('edad_per', IntegerType(), True), StructField('mayor_menor', IntegerType(), True), StructField('g_edad_80ymás', StringType(), True), StructField('g_edad_60ymás', IntegerType(), True), StructField('edad_quinquenales', StringType(), True), StructField('estado_con', IntegerType(), True), StructField('tipo_veh', IntegerType(), True), StructField('marca_veh', IntegerType(), True), StructField('color_veh', IntegerType(), True), StructField('modelo_veh', IntegerType(), True), StructField('g_modelo_veh', IntegerType(), True), StructField('tipo_eve', IntegerType(), True), StructField('zona_ciudad', DoubleType(), True)])"
      ]
     },
     "execution_count": 41,
     "metadata": {},
     "output_type": "execute_result"
    }
   ],
   "source": [
    "df_vehiculos.schema"
   ]
  },
  {
   "cell_type": "code",
   "execution_count": null,
   "id": "4974d325",
   "metadata": {},
   "outputs": [
    {
     "name": "stdout",
     "output_type": "stream",
     "text": [
      "+-------+---------+-------+-------+-----------+--------+------+--------+---------+---------+------------+--------+--------+--------+-----------+-------------+-------------+-----------------+----------+--------+---------+---------+----------+------------+--------+-----------+\n",
      "|año_ocu|num_corre|mes_ocu|día_ocu|día_sem_ocu|hora_ocu|g_hora|g_hora_5|depto_ocu|mupio_ocu|área_geo_ocu|zona_ocu|sexo_per|edad_per|mayor_menor|g_edad_80ymás|g_edad_60ymás|edad_quinquenales|estado_con|tipo_veh|marca_veh|color_veh|modelo_veh|g_modelo_veh|tipo_eve|zona_ciudad|\n",
      "+-------+---------+-------+-------+-----------+--------+------+--------+---------+---------+------------+--------+--------+--------+-----------+-------------+-------------+-----------------+----------+--------+---------+---------+----------+------------+--------+-----------+\n",
      "|   2015|        1|      1|      1|          4|      16|     3|       2|        1|      101|         1.0|       1|       2|      24|          1|            3|            3|                5|         9|       1|       32|       11|      2003|           4|       1|       NULL|\n",
      "|   2015|        2|      1|      1|          4|      16|     3|       2|        1|      101|         1.0|       1|       1|      19|          1|            2|            2|                4|         9|       4|       21|        5|      2011|           5|       1|       NULL|\n",
      "|   2015|        3|      1|      1|          4|      22|     4|       3|        1|      101|         1.0|      16|       2|      24|          1|            3|            3|                5|         1|       1|       21|        3|      9999|           6|       1|       NULL|\n",
      "|   2015|        4|      1|      1|          4|      22|     4|       3|        1|      101|         1.0|      16|       1|      32|          1|            5|            5|                7|         1|       4|       21|        5|      9999|           6|       1|       NULL|\n",
      "|   2015|        5|      1|      1|          4|       2|     1|       1|        1|      101|         1.0|       7|       1|      18|          1|            2|            2|                4|         9|       4|       21|        1|      2000|           4|       1|       NULL|\n",
      "|   2015|        6|      1|      1|          4|       2|     1|       1|        1|      101|         1.0|       7|       9|     999|          9|           16|           12|               18|         9|       3|       44|        6|      9999|           6|       1|       NULL|\n",
      "|   2015|        7|      1|      1|          4|       9|     2|       1|        1|      101|         1.0|      12|       1|      20|          1|            3|            3|                5|         9|       4|       40|        5|      9999|           6|       2|       NULL|\n",
      "|   2015|        8|      1|      1|          4|       1|     1|       1|        1|      115|         1.0|       8|       1|      23|          1|            3|            3|                5|         9|       1|       34|        4|      9999|           6|       2|       NULL|\n",
      "|   2015|        9|      1|      1|          4|       8|     2|       1|        1|      114|         2.0|      99|       1|      19|          1|            2|            2|                4|         1|       4|       41|        4|      9999|           6|       3|       NULL|\n",
      "|   2015|       10|      1|      1|          4|      17|     3|       2|        1|      110|         2.0|      99|       1|      24|          1|            3|            3|                5|         1|       7|       22|        7|      9999|           6|       1|       NULL|\n",
      "+-------+---------+-------+-------+-----------+--------+------+--------+---------+---------+------------+--------+--------+--------+-----------+-------------+-------------+-----------------+----------+--------+---------+---------+----------+------------+--------+-----------+\n",
      "only showing top 10 rows\n",
      "\n"
     ]
    }
   ],
   "source": [
    "df_vehiculos.show(10)"
   ]
  },
  {
   "cell_type": "code",
   "execution_count": 10,
   "id": "680b9e13",
   "metadata": {},
   "outputs": [
    {
     "data": {
      "text/plain": [
       "97761"
      ]
     },
     "execution_count": 10,
     "metadata": {},
     "output_type": "execute_result"
    }
   ],
   "source": [
    "df_vehiculos.count()"
   ]
  },
  {
   "cell_type": "code",
   "execution_count": 12,
   "id": "2414a83c",
   "metadata": {},
   "outputs": [
    {
     "name": "stdout",
     "output_type": "stream",
     "text": [
      "+-------+----------------------+\n",
      "|año_ocu|vehiculos_involucrados|\n",
      "+-------+----------------------+\n",
      "|   2023|                  8218|\n",
      "|   2021|                  8153|\n",
      "|   2016|                  7964|\n",
      "|   2022|                  7924|\n",
      "|   2019|                  7047|\n",
      "|   2015|                  6854|\n",
      "|   2018|                  6395|\n",
      "|   2020|                  6350|\n",
      "|   2017|                  5879|\n",
      "+-------+----------------------+\n",
      "\n"
     ]
    }
   ],
   "source": [
    "\n",
    "# Agrupar por esas columnas y contar los vehículos (filas)\n",
    "df_accidentes = df_hechos.groupBy(['año_ocu']) \\\n",
    "    .agg(F.count('*').alias('vehiculos_involucrados')) \\\n",
    "    .orderBy(F.desc('vehiculos_involucrados'))  \n",
    "\n",
    "df_accidentes.show()"
   ]
  },
  {
   "cell_type": "markdown",
   "id": "5aa87b16",
   "metadata": {},
   "source": [
    "### Dataset combinado"
   ]
  },
  {
   "cell_type": "code",
   "execution_count": 13,
   "id": "4cd500ba",
   "metadata": {},
   "outputs": [
    {
     "data": {
      "text/plain": [
       "DataFrame[núm_corre: double, año_ocu: int, mes_ocu: string, día_ocu: int, hora_ocu: string, día_sem_ocu: string, g_hora: string, g_hora_5: string, depto_ocu: string, mupio_ocu: string, área_geo_ocu: double, zona_ocu: string, tipo_veh: string, marca_veh: string, color_veh: string, modelo_veh: string, tipo_eve: string, g_modelo_veh: string]"
      ]
     },
     "execution_count": 13,
     "metadata": {},
     "output_type": "execute_result"
    }
   ],
   "source": [
    "df_hechos"
   ]
  },
  {
   "cell_type": "markdown",
   "id": "245b6b57",
   "metadata": {},
   "source": [
    "#### Con vehículos"
   ]
  },
  {
   "cell_type": "code",
   "execution_count": 28,
   "id": "0aa81fb3",
   "metadata": {},
   "outputs": [
    {
     "name": "stdout",
     "output_type": "stream",
     "text": [
      "+-------+-------+-------+--------+---------+---------+--------+-----------+--------+------+--------+----------------------+\n",
      "|año_ocu|mes_ocu|día_ocu|hora_ocu|depto_ocu|mupio_ocu|zona_ocu|día_sem_ocu|tipo_eve|g_hora|g_hora_5|vehiculos_involucrados|\n",
      "+-------+-------+-------+--------+---------+---------+--------+-----------+--------+------+--------+----------------------+\n",
      "|   2018|      3|      1|      13|        1|      117|      99|          4|       1|     3|       2|                    26|\n",
      "|   2015|      8|     22|       8|        8|      802|      99|          6|       1|     2|       1|                    12|\n",
      "|   2020|      6|     24|      11|        1|      101|      25|          3|       1|     2|       1|                    12|\n",
      "|   2020|     12|     23|      15|        1|      115|      99|          3|       1|     3|       2|                    11|\n",
      "|   2021|     12|     12|      19|        5|      511|      99|          7|       1|     4|       3|                    11|\n",
      "|   2023|      6|      8|      21|        4|      401|      99|          4|       1|     4|       3|                    11|\n",
      "|   2017|      7|      7|      12|        1|      101|      18|          5|       1|     3|       2|                    10|\n",
      "|   2016|      7|      8|       9|        8|      802|      99|          5|       1|     2|       1|                    10|\n",
      "|   2019|      5|     20|       7|        6|      601|      99|          1|       1|     2|       1|                     9|\n",
      "|   2021|      7|     21|      21|        8|      802|      99|          3|       1|     4|       3|                     9|\n",
      "+-------+-------+-------+--------+---------+---------+--------+-----------+--------+------+--------+----------------------+\n",
      "only showing top 10 rows\n",
      "\n"
     ]
    },
    {
     "data": {
      "text/plain": [
       "64270"
      ]
     },
     "execution_count": 28,
     "metadata": {},
     "output_type": "execute_result"
    }
   ],
   "source": [
    "# Columnas que identifican un accidente\n",
    "columnas_vehiculos = [\n",
    "    'año_ocu', 'mes_ocu', 'día_ocu', 'hora_ocu',\n",
    "    'depto_ocu', 'mupio_ocu', 'zona_ocu', 'día_sem_ocu', 'tipo_eve', \n",
    "    'g_hora', 'g_hora_5'\n",
    "]\n",
    "\n",
    "# Agrupar por esas columnas y contar los vehículos (filas)\n",
    "vehiculos = df_vehiculos.groupBy(columnas_vehiculos) \\\n",
    "    .agg(F.count('*').alias('vehiculos_involucrados')) \\\n",
    "    .orderBy(F.desc('vehiculos_involucrados'))  \n",
    "\n",
    "vehiculos.show(10)\n",
    "vehiculos.count()"
   ]
  },
  {
   "cell_type": "markdown",
   "id": "d803bad0",
   "metadata": {},
   "source": [
    "514 accidentes se están agrupando incorrectamente. "
   ]
  },
  {
   "cell_type": "markdown",
   "id": "3818cde7",
   "metadata": {},
   "source": [
    "#### Con fallecidos"
   ]
  },
  {
   "cell_type": "code",
   "execution_count": 30,
   "id": "b15dab76",
   "metadata": {},
   "outputs": [
    {
     "name": "stdout",
     "output_type": "stream",
     "text": [
      "+-------+-------+-------+--------+---------+---------+--------+-----------+--------+------+--------+----------------+------------+------------+\n",
      "|año_ocu|mes_ocu|día_ocu|hora_ocu|depto_ocu|mupio_ocu|zona_ocu|día_sem_ocu|tipo_eve|g_hora|g_hora_5|filas_reportadas|n_fallecidos|n_lesionados|\n",
      "+-------+-------+-------+--------+---------+---------+--------+-----------+--------+------+--------+----------------+------------+------------+\n",
      "|2016   |3      |28     |5       |7        |705      |99      |1          |4       |1     |1       |57              |24          |33          |\n",
      "|2019   |9      |26     |19      |5        |501      |99      |4          |3       |4     |3       |57              |6           |51          |\n",
      "|2016   |5      |30     |5       |6        |601      |99      |1          |4       |1     |1       |50              |1           |49          |\n",
      "|2023   |4      |8      |22      |9        |901      |99      |6          |1       |4     |3       |49              |4           |45          |\n",
      "|2016   |11     |24     |0       |1        |108      |99      |4          |3       |1     |1       |48              |0           |48          |\n",
      "|2023   |7      |2      |8       |3        |301      |99      |7          |3       |2     |1       |46              |6           |40          |\n",
      "|2022   |1      |16     |14      |3        |304      |99      |7          |7       |3     |2       |44              |5           |39          |\n",
      "|2016   |3      |22     |8       |10       |1002     |99      |2          |1       |2     |1       |43              |7           |36          |\n",
      "|2019   |6      |19     |18      |3        |306      |99      |3          |3       |4     |3       |40              |0           |40          |\n",
      "|2016   |5      |16     |6       |3        |301      |99      |1          |3       |2     |1       |38              |0           |38          |\n",
      "|2019   |9      |20     |11      |1        |113      |99      |5          |1       |2     |1       |38              |3           |35          |\n",
      "|2019   |2      |20     |13      |5        |505      |99      |3          |3       |3     |2       |37              |2           |35          |\n",
      "|2016   |2      |1      |11      |16       |1610     |99      |1          |4       |2     |1       |36              |1           |35          |\n",
      "|2019   |3      |27     |20      |7        |705      |99      |3          |5       |4     |3       |36              |19          |17          |\n",
      "|2018   |4      |25     |17      |16       |1612     |99      |3          |3       |3     |2       |36              |4           |32          |\n",
      "|2019   |5      |3      |6       |16       |1609     |99      |5          |4       |2     |1       |35              |1           |34          |\n",
      "|2017   |11     |21     |7       |1        |111      |99      |2          |1       |2     |1       |35              |1           |34          |\n",
      "|2017   |7      |30     |15      |13       |1306     |99      |7          |4       |3     |2       |34              |0           |34          |\n",
      "|2018   |6      |21     |10      |12       |1205     |99      |4          |3       |2     |1       |34              |0           |34          |\n",
      "|2015   |11     |8      |14      |14       |1401     |99      |7          |3       |3     |2       |34              |7           |27          |\n",
      "+-------+-------+-------+--------+---------+---------+--------+-----------+--------+------+--------+----------------+------------+------------+\n",
      "only showing top 20 rows\n",
      "\n"
     ]
    },
    {
     "data": {
      "text/plain": [
       "59025"
      ]
     },
     "execution_count": 30,
     "metadata": {},
     "output_type": "execute_result"
    }
   ],
   "source": [
    "df = df_fallecidos.withColumn(\n",
    "    'fall_les_int',\n",
    "    F.when(F.col('fall_les').rlike('^[0-9]+$'), F.col('fall_les').cast('int')) \\\n",
    "     .when(F.lower(F.col('fall_les')).like('%fallec%'), F.lit(1)) \\\n",
    "     .when(F.lower(F.col('fall_les')).like('%lesion%'), F.lit(2)) \\\n",
    "     .otherwise(None)\n",
    ")\n",
    "\n",
    "group_cols = [\n",
    "    'año_ocu', 'mes_ocu', 'día_ocu', 'hora_ocu',\n",
    "    'depto_ocu', 'mupio_ocu', 'zona_ocu', 'día_sem_ocu', 'tipo_eve', \n",
    "    'g_hora', 'g_hora_5'\n",
    "]\n",
    "\n",
    "# 4) Agrupar y agregar\n",
    "fallecidos = df.groupBy(group_cols).agg(\n",
    "    # cuenta total de filas (vehículos reportados)\n",
    "    F.count('*').alias('filas_reportadas'),\n",
    "    # cuenta de firmas de vehículo distintas (más robusto frente a duplicados)\n",
    "    #F.countDistinct('veh_sig').alias('vehiculos_involucrados'),\n",
    "    # conteos condicionales por tipo de fall_les\n",
    "    F.sum(F.when(F.col('fall_les_int') == 1, 1).otherwise(0)).alias('n_fallecidos'),\n",
    "    F.sum(F.when(F.col('fall_les_int') == 2, 1).otherwise(0)).alias('n_lesionados')\n",
    ")\n",
    "\n",
    "# ordenar para ver los casos grandes\n",
    "fallecidos = fallecidos.orderBy(F.desc('filas_reportadas'))\n",
    "\n",
    "fallecidos.show(20, truncate=False)\n",
    "fallecidos.count()"
   ]
  },
  {
   "cell_type": "markdown",
   "id": "a3a81cf5",
   "metadata": {},
   "source": [
    "#### Join"
   ]
  },
  {
   "cell_type": "code",
   "execution_count": 36,
   "id": "4a7bc939",
   "metadata": {},
   "outputs": [
    {
     "name": "stdout",
     "output_type": "stream",
     "text": [
      "+-------+-------+-------+---------+---------+--------+-----------+--------+------+--------+--------+----------------+------------+------------+--------+----------------------+\n",
      "|año_ocu|mes_ocu|día_ocu|depto_ocu|mupio_ocu|zona_ocu|día_sem_ocu|tipo_eve|g_hora|g_hora_5|hora_ocu|filas_reportadas|n_fallecidos|n_lesionados|hora_ocu|vehiculos_involucrados|\n",
      "+-------+-------+-------+---------+---------+--------+-----------+--------+------+--------+--------+----------------+------------+------------+--------+----------------------+\n",
      "|2015   |2      |8      |5        |503      |99      |7          |1       |2     |1       |11      |2               |2           |0           |10      |2                     |\n",
      "|2015   |4      |10     |2        |203      |99      |5          |1       |4     |3       |21      |2               |2           |0           |21      |3                     |\n",
      "|2015   |4      |27     |4        |401      |99      |1          |1       |4     |3       |21      |1               |0           |1           |21      |2                     |\n",
      "|2015   |5      |1      |7        |705      |99      |5          |1       |2     |1       |9       |2               |1           |1           |9       |2                     |\n",
      "|2015   |5      |20     |2        |201      |99      |3          |3       |2     |1       |7       |2               |0           |2           |7       |1                     |\n",
      "|2015   |5      |25     |5        |501      |1       |1          |1       |4     |3       |18      |1               |0           |1           |18      |2                     |\n",
      "|2015   |7      |6      |5        |501      |99      |7          |1       |3     |2       |15      |1               |1           |0           |15      |2                     |\n",
      "|2015   |7      |14     |1        |101      |18      |2          |1       |4     |3       |22      |2               |0           |2           |22      |2                     |\n",
      "|2015   |7      |24     |18       |1804     |99      |5          |4       |3     |2       |15      |2               |1           |1           |15      |1                     |\n",
      "|2015   |8      |11     |4        |406      |99      |2          |3       |2     |1       |8       |2               |0           |2           |8       |1                     |\n",
      "+-------+-------+-------+---------+---------+--------+-----------+--------+------+--------+--------+----------------+------------+------------+--------+----------------------+\n",
      "only showing top 10 rows\n",
      "\n"
     ]
    },
    {
     "data": {
      "text/plain": [
       "57958"
      ]
     },
     "execution_count": 36,
     "metadata": {},
     "output_type": "execute_result"
    }
   ],
   "source": [
    "columnas_union = [\n",
    "    'año_ocu', 'mes_ocu', 'día_ocu',\n",
    "    'depto_ocu', 'mupio_ocu', 'zona_ocu',\n",
    "    'día_sem_ocu', 'tipo_eve', 'g_hora', 'g_hora_5'\n",
    "]\n",
    "\n",
    "# Join de manera segura\n",
    "df_final = fallecidos.join(\n",
    "    vehiculos,\n",
    "    on=columnas_union,\n",
    "    how='inner'   # o 'full_outer' para conservar todos los registros\n",
    ")\n",
    "\n",
    "# Si prefieres conservar solo los accidentes que aparecen en ambos:\n",
    "# how='inner'\n",
    "\n",
    "# Reemplazar nulls por 0 para conteos\n",
    "df_final = df_final.fillna({\n",
    "    'vehiculos_involucrados': 0,\n",
    "    'n_fallecidos': 0,\n",
    "    'n_lesionados': 0\n",
    "})\n",
    "\n",
    "df_final.show(10, truncate=False)\n",
    "df_final.count()"
   ]
  },
  {
   "cell_type": "markdown",
   "id": "6de9ea1b",
   "metadata": {},
   "source": [
    "## Análisis de correlaciones"
   ]
  },
  {
   "cell_type": "code",
   "execution_count": 38,
   "id": "fb06a229",
   "metadata": {},
   "outputs": [
    {
     "name": "stdout",
     "output_type": "stream",
     "text": [
      "+-------+-------+-------+---------+---------+--------+-----------+--------+------+--------+--------+----------------+------------+------------+--------+----------------------+\n",
      "|año_ocu|mes_ocu|día_ocu|depto_ocu|mupio_ocu|zona_ocu|día_sem_ocu|tipo_eve|g_hora|g_hora_5|hora_ocu|filas_reportadas|n_fallecidos|n_lesionados|hora_ocu|vehiculos_involucrados|\n",
      "+-------+-------+-------+---------+---------+--------+-----------+--------+------+--------+--------+----------------+------------+------------+--------+----------------------+\n",
      "|   2015|      2|      8|        5|      503|      99|          7|       1|     2|       1|      11|               2|           2|           0|      10|                     2|\n",
      "|   2015|      4|     10|        2|      203|      99|          5|       1|     4|       3|      21|               2|           2|           0|      21|                     3|\n",
      "|   2015|      4|     27|        4|      401|      99|          1|       1|     4|       3|      21|               1|           0|           1|      21|                     2|\n",
      "|   2015|      5|      1|        7|      705|      99|          5|       1|     2|       1|       9|               2|           1|           1|       9|                     2|\n",
      "|   2015|      5|     20|        2|      201|      99|          3|       3|     2|       1|       7|               2|           0|           2|       7|                     1|\n",
      "|   2015|      5|     25|        5|      501|       1|          1|       1|     4|       3|      18|               1|           0|           1|      18|                     2|\n",
      "|   2015|      7|      6|        5|      501|      99|          7|       1|     3|       2|      15|               1|           1|           0|      15|                     2|\n",
      "|   2015|      7|     14|        1|      101|      18|          2|       1|     4|       3|      22|               2|           0|           2|      22|                     2|\n",
      "|   2015|      7|     24|       18|     1804|      99|          5|       4|     3|       2|      15|               2|           1|           1|      15|                     1|\n",
      "|   2015|      8|     11|        4|      406|      99|          2|       3|     2|       1|       8|               2|           0|           2|       8|                     1|\n",
      "|   2015|      8|     13|        5|      502|      99|          4|       1|     4|       3|      22|               4|           0|           4|      22|                     2|\n",
      "|   2015|      8|     23|        5|      501|      99|          7|       1|     3|       2|      17|               1|           0|           1|      17|                     2|\n",
      "|   2015|      9|      7|        1|      101|       6|          1|       1|     4|       3|      19|               1|           0|           1|      19|                     2|\n",
      "|   2015|     10|      4|        5|      501|      99|          7|       1|     1|       1|       2|               1|           0|           1|       2|                     2|\n",
      "|   2015|     12|      5|        1|      102|      99|          6|       1|     3|       2|      14|               1|           0|           1|      14|                     2|\n",
      "|   2015|     12|     20|        5|      501|      99|          7|       1|     2|       1|       6|               6|           4|           2|       6|                     2|\n",
      "|   2015|     12|     31|       18|     1804|      99|          4|       2|     2|       1|       7|               1|           1|           0|       7|                     1|\n",
      "|   2015|      1|     10|       16|     1609|      99|          6|       5|     4|       3|      23|               1|           0|           1|      23|                     1|\n",
      "|   2015|      2|      6|        3|      301|      99|          5|       5|     4|       3|      22|               1|           1|           0|      22|                     1|\n",
      "|   2015|      5|     21|        5|      506|       2|          4|       5|     3|       2|      13|               1|           0|           1|      13|                     1|\n",
      "+-------+-------+-------+---------+---------+--------+-----------+--------+------+--------+--------+----------------+------------+------------+--------+----------------------+\n",
      "only showing top 20 rows\n",
      "\n"
     ]
    }
   ],
   "source": [
    "df_final.show()"
   ]
  },
  {
   "cell_type": "markdown",
   "id": "b8204ae3",
   "metadata": {},
   "source": [
    "## Reducción de dimensionalidad PCA"
   ]
  },
  {
   "cell_type": "markdown",
   "id": "e620b945",
   "metadata": {},
   "source": [
    "## Segmentación KMeans"
   ]
  },
  {
   "cell_type": "markdown",
   "id": "ff046120",
   "metadata": {},
   "source": [
    "# Modelado supervisado para predicción"
   ]
  },
  {
   "cell_type": "markdown",
   "id": "a275e65d",
   "metadata": {},
   "source": [
    "## Columna Severidad"
   ]
  },
  {
   "cell_type": "markdown",
   "id": "9998678e",
   "metadata": {},
   "source": [
    "## Train y Test"
   ]
  },
  {
   "cell_type": "markdown",
   "id": "a0f7e400",
   "metadata": {},
   "source": [
    "## Pipeline de clasificación"
   ]
  },
  {
   "cell_type": "markdown",
   "id": "97605c2d",
   "metadata": {},
   "source": [
    "## Modelos adicionales"
   ]
  },
  {
   "cell_type": "markdown",
   "id": "00477fe9",
   "metadata": {},
   "source": [
    "### Regresión logística"
   ]
  },
  {
   "cell_type": "markdown",
   "id": "4263d32d",
   "metadata": {},
   "source": [
    "### Decision Tree"
   ]
  },
  {
   "cell_type": "markdown",
   "id": "defe21e4",
   "metadata": {},
   "source": [
    "### Discusión"
   ]
  },
  {
   "cell_type": "markdown",
   "id": "4895a06a",
   "metadata": {},
   "source": [
    "## Regresión lineal"
   ]
  },
  {
   "cell_type": "markdown",
   "id": "443b85c3",
   "metadata": {},
   "source": [
    "## Recarga del modelo"
   ]
  },
  {
   "cell_type": "markdown",
   "id": "3a0937d3",
   "metadata": {},
   "source": [
    "## Análisis de la regresión"
   ]
  },
  {
   "cell_type": "markdown",
   "id": "9b9671b6",
   "metadata": {},
   "source": [
    "### Gráficas"
   ]
  },
  {
   "cell_type": "markdown",
   "id": "38bdde9d",
   "metadata": {},
   "source": [
    "### Discusión"
   ]
  }
 ],
 "metadata": {
  "kernelspec": {
   "display_name": "Python 3",
   "language": "python",
   "name": "python3"
  },
  "language_info": {
   "codemirror_mode": {
    "name": "ipython",
    "version": 3
   },
   "file_extension": ".py",
   "mimetype": "text/x-python",
   "name": "python",
   "nbconvert_exporter": "python",
   "pygments_lexer": "ipython3",
   "version": "3.10.2"
  }
 },
 "nbformat": 4,
 "nbformat_minor": 5
}

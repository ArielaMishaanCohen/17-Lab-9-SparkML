{
 "cells": [
  {
   "cell_type": "markdown",
   "id": "8b9d0b9b",
   "metadata": {},
   "source": [
    "# Preprocesamiento de datos"
   ]
  },
  {
   "cell_type": "code",
   "execution_count": 2,
   "id": "40a2bb58",
   "metadata": {},
   "outputs": [],
   "source": [
    "import pandas as pd\n",
    "import openpyxl \n",
    "import numpy as np\n",
    "import os\n",
    "from pathlib import Path\n",
    "import unicodedata\n",
    "from pyspark.sql.functions import desc\n",
    "from pyspark.sql.functions import count, countDistinct\n",
    "from pyspark.sql.functions import col"
   ]
  },
  {
   "cell_type": "code",
   "execution_count": 3,
   "id": "17aeb393",
   "metadata": {},
   "outputs": [
    {
     "name": "stderr",
     "output_type": "stream",
     "text": [
      "25/10/06 17:34:54 WARN Utils: Your hostname, Arielas-MacBook-Pro.local resolves to a loopback address: 127.0.0.1; using 10.100.11.238 instead (on interface en0)\n",
      "25/10/06 17:34:54 WARN Utils: Set SPARK_LOCAL_IP if you need to bind to another address\n",
      "Setting default log level to \"WARN\".\n",
      "To adjust logging level use sc.setLogLevel(newLevel). For SparkR, use setLogLevel(newLevel).\n",
      "25/10/06 17:34:55 WARN NativeCodeLoader: Unable to load native-hadoop library for your platform... using builtin-java classes where applicable\n",
      "25/10/06 17:34:56 WARN Utils: Service 'SparkUI' could not bind on port 4040. Attempting port 4041.\n"
     ]
    }
   ],
   "source": [
    "from pyspark.sql import SparkSession\n",
    "spark = SparkSession.builder.appName(\"PreprocesamientoINE\").getOrCreate()"
   ]
  },
  {
   "cell_type": "markdown",
   "id": "c42b49e6",
   "metadata": {},
   "source": [
    "## Funciones"
   ]
  },
  {
   "cell_type": "code",
   "execution_count": 4,
   "id": "57e770f0",
   "metadata": {},
   "outputs": [],
   "source": [
    "def limpiar_nombre_columna(col, seen):\n",
    "    col_clean = ''.join(\n",
    "        c for c in unicodedata.normalize('NFD', str(col))\n",
    "        if unicodedata.category(c) != 'Mn'\n",
    "    )\n",
    "    col_clean = (\n",
    "        col_clean.strip()\n",
    "        .lower()\n",
    "        .replace(\" \", \"_\")\n",
    "        .replace(\".\", \"_\")\n",
    "        .replace(\"-\", \"_\")\n",
    "    )\n",
    "\n",
    "    if col_clean in seen:\n",
    "        seen[col_clean] += 1\n",
    "        col_clean = f\"{col_clean}_{seen[col_clean]}\"\n",
    "    else:\n",
    "        seen[col_clean] = 0\n",
    "    return col_clean\n",
    "\n",
    "def unir_excels_y_guardar_tabla(carpeta, nombre_tabla):\n",
    "    folder_path = Path(carpeta)\n",
    "    all_data = []\n",
    "\n",
    "    for file in sorted(os.listdir(folder_path)):\n",
    "        if file.endswith(\".xlsx\"):\n",
    "            year = int(''.join(filter(str.isdigit, file)))\n",
    "            df = pd.read_excel(folder_path / file)\n",
    "            df[\"año\"] = year\n",
    "            all_data.append(df)\n",
    "\n",
    "    df_all = pd.concat(all_data, ignore_index=True)\n",
    "\n",
    "    seen = {}\n",
    "    df_all.columns = [limpiar_nombre_columna(c, seen) for c in df_all.columns]\n",
    "    df_all = df_all.loc[:, ~df_all.columns.duplicated()]\n",
    "\n",
    "    for col in [\"año\", \"mes_ocu\", \"hora_ocu\", \"edad_per\"]:\n",
    "        if col in df_all.columns:\n",
    "            df_all[col] = pd.to_numeric(df_all[col], errors=\"coerce\").astype(\"Int64\")\n",
    "\n",
    "    for col in df_all.columns:\n",
    "        if df_all[col].dtype == \"object\":\n",
    "            df_all[col] = df_all[col].astype(str)\n",
    "\n",
    "    df_spark = spark.createDataFrame(df_all)\n",
    "    df_spark.write.format(\"delta\").mode(\"overwrite\").option(\"overwriteSchema\", \"true\").saveAsTable(nombre_tabla)\n",
    "\n",
    "    print(f\"Guardada tabla '{nombre_tabla}' con {df_spark.count()} filas\")\n",
    "    df_spark.printSchema()"
   ]
  },
  {
   "cell_type": "markdown",
   "id": "d7c31ad6",
   "metadata": {},
   "source": [
    "## Carga de datos"
   ]
  },
  {
   "cell_type": "code",
   "execution_count": 5,
   "id": "7dc102c5",
   "metadata": {},
   "outputs": [],
   "source": [
    "\n",
    "dic_fallecidos = pd.read_excel('ine/Diccionario Fallecidos y Lesionados.xlsx', header=1)\n",
    "dic_hechos = pd.read_excel('ine/Diccionario Hechos.xlsx', header=1)\n",
    "dic_vehiculos = pd.read_excel('ine/Diccionario Vehículos.xlsx', header= 1)\n",
    "\n",
    "# Fallecidos\n",
    "fallecidos15 = pd.read_excel('ine/Fallecidos/fallecidos2015.xlsx')\n",
    "fallecidos16 = pd.read_excel('ine/Fallecidos/fallecidos2016.xlsx')\n",
    "fallecidos17 = pd.read_excel('ine/Fallecidos/fallecidos2017.xlsx')\n",
    "fallecidos18 = pd.read_excel('ine/Fallecidos/fallecidos2018.xlsx')\n",
    "fallecidos19 = pd.read_excel('ine/Fallecidos/fallecidos2019.xlsx')\n",
    "fallecidos20 = pd.read_excel('ine/Fallecidos/fallecidos2020.xlsx')\n",
    "fallecidos21 = pd.read_excel('ine/Fallecidos/fallecidos2021.xlsx')\n",
    "fallecidos22 = pd.read_excel('ine/Fallecidos/fallecidos2022.xlsx')\n",
    "fallecidos23 = pd.read_excel('ine/Fallecidos/fallecidos2023.xlsx')\n",
    "\n",
    "lista_fallecidos = [fallecidos15, fallecidos16, fallecidos17, fallecidos18, fallecidos19, fallecidos20, fallecidos21, fallecidos22, fallecidos23]\n",
    "\n",
    "# Hechos\n",
    "hechos15 = pd.read_excel('ine/Hechos/hechos2015.xlsx')\n",
    "hechos16 = pd.read_excel('ine/Hechos/hechos2016.xlsx')\n",
    "hechos17 = pd.read_excel('ine/Hechos/hechos2017.xlsx')\n",
    "hechos18 = pd.read_excel('ine/Hechos/hechos2018.xlsx')\n",
    "hechos19 = pd.read_excel('ine/Hechos/hechos2019.xlsx')\n",
    "hechos20 = pd.read_excel('ine/Hechos/hechos2020.xlsx')\n",
    "hechos21 = pd.read_excel('ine/Hechos/hechos2021.xlsx')\n",
    "hechos22 = pd.read_excel('ine/Hechos/hechos2022.xlsx')\n",
    "hechos23 = pd.read_excel('ine/Hechos/hechos2023.xlsx')\n",
    "\n",
    "lista_hechos = [hechos15, hechos16, hechos17, hechos18, hechos19, hechos20, hechos21, hechos22, hechos23]\n",
    "\n",
    "# Hechos\n",
    "vehiculos15 = pd.read_excel('ine/Vehiculos/vehiculos2015.xlsx')\n",
    "vehiculos16 = pd.read_excel('ine/Vehiculos/vehiculos2016.xlsx')\n",
    "vehiculos17 = pd.read_excel('ine/Vehiculos/vehiculos2017.xlsx')\n",
    "vehiculos18 = pd.read_excel('ine/Vehiculos/vehiculos2018.xlsx')\n",
    "vehiculos19 = pd.read_excel('ine/Vehiculos/vehiculos2019.xlsx')\n",
    "vehiculos20 = pd.read_excel('ine/Vehiculos/vehiculos2020.xlsx')\n",
    "vehiculos21 = pd.read_excel('ine/Vehiculos/vehiculos2021.xlsx')\n",
    "vehiculos22 = pd.read_excel('ine/Vehiculos/vehiculos2022.xlsx')\n",
    "vehiculos23 = pd.read_excel('ine/Vehiculos/vehiculos2023.xlsx')\n",
    "\n",
    "lista_vehiculos = [vehiculos15, vehiculos16, vehiculos17, vehiculos18, vehiculos19, vehiculos20, vehiculos21, vehiculos22, vehiculos23]\n"
   ]
  },
  {
   "cell_type": "markdown",
   "id": "5bf6159a",
   "metadata": {},
   "source": [
    "## Diccionario"
   ]
  },
  {
   "cell_type": "code",
   "execution_count": 16,
   "id": "9f2eca83",
   "metadata": {},
   "outputs": [],
   "source": [
    "\n",
    "diccionario_fallecidos = {}\n",
    "variable_actual = None\n",
    "\n",
    "for _, row in dic_fallecidos.iterrows():\n",
    "    if pd.notna(row[\"Variable\"]):  \n",
    "        variable_actual = row[\"Variable\"]\n",
    "        diccionario_fallecidos[variable_actual] = {}\n",
    "    \n",
    "    # Intentar convertir a número\n",
    "    codigo = pd.to_numeric(row[\"Código\"], errors=\"coerce\")\n",
    "    valor = row[\"Valor\"]\n",
    "\n",
    "    if variable_actual and pd.notna(codigo) and pd.notna(valor):\n",
    "        diccionario_fallecidos[variable_actual][int(codigo)] = str(valor)"
   ]
  },
  {
   "cell_type": "code",
   "execution_count": 17,
   "id": "8c275ff2",
   "metadata": {},
   "outputs": [
    {
     "data": {
      "text/plain": [
       "{'Colisión': 1,\n",
       " 'Choque': 2,\n",
       " 'Vuelco': 3,\n",
       " 'Caída': 4,\n",
       " 'Atropello': 5,\n",
       " 'Derrape': 6,\n",
       " 'Embarranco': 7,\n",
       " 'Encuneto': 8,\n",
       " 'Ignorado': 99}"
      ]
     },
     "execution_count": 17,
     "metadata": {},
     "output_type": "execute_result"
    }
   ],
   "source": [
    "diccionario_fallecidos = {var: {v: k for k, v in mapa.items()} for var, mapa in diccionario_fallecidos.items()}\n",
    "diccionario_fallecidos[\"tipo_eve\"]"
   ]
  },
  {
   "cell_type": "code",
   "execution_count": 20,
   "id": "10245171",
   "metadata": {},
   "outputs": [],
   "source": [
    "\n",
    "diccionario_hechos = {}\n",
    "variable_actual = None\n",
    "\n",
    "for _, row in dic_hechos.iterrows():\n",
    "    if pd.notna(row[\"Variable\"]):  \n",
    "        variable_actual = row[\"Variable\"]\n",
    "        diccionario_hechos[variable_actual] = {}\n",
    "    \n",
    "    # Intentar convertir a número\n",
    "    codigo = pd.to_numeric(row[\"Código\"], errors=\"coerce\")\n",
    "    valor = row[\"Valor\"]\n",
    "\n",
    "    if variable_actual and pd.notna(codigo) and pd.notna(valor):\n",
    "        diccionario_hechos[variable_actual][int(codigo)] = str(valor)"
   ]
  },
  {
   "cell_type": "code",
   "execution_count": 21,
   "id": "032a9fe4",
   "metadata": {},
   "outputs": [
    {
     "data": {
      "text/plain": [
       "{'Mañana': 1, 'Tarde': 2, 'Noche': 3, 'Ignorada': 4}"
      ]
     },
     "execution_count": 21,
     "metadata": {},
     "output_type": "execute_result"
    }
   ],
   "source": [
    "diccionario_hechos = {var: {v: k for k, v in mapa.items()} for var, mapa in diccionario_hechos.items()}\n",
    "diccionario_hechos[\"g_hora_5\"]"
   ]
  },
  {
   "cell_type": "code",
   "execution_count": 23,
   "id": "4908d809",
   "metadata": {},
   "outputs": [],
   "source": [
    "\n",
    "diccionario_vehiculos = {}\n",
    "variable_actual = None\n",
    "\n",
    "for _, row in dic_vehiculos.iterrows():\n",
    "    if pd.notna(row[\"Variable\"]):  \n",
    "        variable_actual = row[\"Variable\"]\n",
    "        diccionario_vehiculos[variable_actual] = {}\n",
    "    \n",
    "    # Intentar convertir a número\n",
    "    codigo = pd.to_numeric(row[\"Código\"], errors=\"coerce\")\n",
    "    valor = row[\"Valor\"]\n",
    "\n",
    "    if variable_actual and pd.notna(codigo) and pd.notna(valor):\n",
    "        diccionario_vehiculos[variable_actual][int(codigo)] = str(valor)"
   ]
  },
  {
   "cell_type": "code",
   "execution_count": 24,
   "id": "46c92d76",
   "metadata": {},
   "outputs": [
    {
     "data": {
      "text/plain": [
       "{'Mañana': 1, 'Tarde': 2, 'Noche': 3, 'Ignorada': 4}"
      ]
     },
     "execution_count": 24,
     "metadata": {},
     "output_type": "execute_result"
    }
   ],
   "source": [
    "diccionario_vehiculos = {var: {v: k for k, v in mapa.items()} for var, mapa in diccionario_vehiculos.items()}\n",
    "diccionario_vehiculos[\"g_hora_5\"]"
   ]
  },
  {
   "cell_type": "markdown",
   "id": "6c494fa4",
   "metadata": {},
   "source": [
    "## Transformación"
   ]
  },
  {
   "cell_type": "code",
   "execution_count": 40,
   "id": "e59c8c7b",
   "metadata": {},
   "outputs": [
    {
     "name": "stderr",
     "output_type": "stream",
     "text": [
      "/var/folders/p9/c7lshh9n1j55x6_b26v_sx1h0000gn/T/ipykernel_12848/4218345710.py:4: FutureWarning: Downcasting behavior in `replace` is deprecated and will be removed in a future version. To retain the old behavior, explicitly call `result.infer_objects(copy=False)`. To opt-in to the future behavior, set `pd.set_option('future.no_silent_downcasting', True)`\n",
      "  hechos22.replace(diccionario_hechos, inplace=True)\n",
      "/var/folders/p9/c7lshh9n1j55x6_b26v_sx1h0000gn/T/ipykernel_12848/4218345710.py:5: FutureWarning: Downcasting behavior in `replace` is deprecated and will be removed in a future version. To retain the old behavior, explicitly call `result.infer_objects(copy=False)`. To opt-in to the future behavior, set `pd.set_option('future.no_silent_downcasting', True)`\n",
      "  hechos23.replace(diccionario_hechos, inplace=True)\n",
      "/var/folders/p9/c7lshh9n1j55x6_b26v_sx1h0000gn/T/ipykernel_12848/4218345710.py:7: FutureWarning: Downcasting behavior in `replace` is deprecated and will be removed in a future version. To retain the old behavior, explicitly call `result.infer_objects(copy=False)`. To opt-in to the future behavior, set `pd.set_option('future.no_silent_downcasting', True)`\n",
      "  vehiculos22.replace(diccionario_vehiculos, inplace=True)\n",
      "/var/folders/p9/c7lshh9n1j55x6_b26v_sx1h0000gn/T/ipykernel_12848/4218345710.py:8: FutureWarning: Downcasting behavior in `replace` is deprecated and will be removed in a future version. To retain the old behavior, explicitly call `result.infer_objects(copy=False)`. To opt-in to the future behavior, set `pd.set_option('future.no_silent_downcasting', True)`\n",
      "  vehiculos23.replace(diccionario_vehiculos, inplace=True)\n"
     ]
    }
   ],
   "source": [
    "fallecidos22.replace(diccionario_fallecidos, inplace=True)\n",
    "fallecidos23.replace(diccionario_fallecidos, inplace=True)\n",
    "\n",
    "hechos22.replace(diccionario_hechos, inplace=True)\n",
    "hechos23.replace(diccionario_hechos, inplace=True)\n",
    "\n",
    "vehiculos22.replace(diccionario_vehiculos, inplace=True)\n",
    "vehiculos23.replace(diccionario_vehiculos, inplace=True)"
   ]
  },
  {
   "cell_type": "code",
   "execution_count": 41,
   "id": "a815356b",
   "metadata": {},
   "outputs": [],
   "source": [
    "fallecidos_junto = pd.concat(lista_fallecidos)\n",
    "hechos_junto = pd.concat(lista_hechos)\n",
    "vehiculos_junto = pd.concat(lista_vehiculos)"
   ]
  },
  {
   "cell_type": "code",
   "execution_count": 43,
   "id": "4f66f1d7",
   "metadata": {},
   "outputs": [],
   "source": [
    "fallecidos_junto.to_csv('ine/fallecidos_junto.csv', index=False)\n",
    "hechos_junto.to_csv('ine/hechos_junto.csv', index=False)\n",
    "vehiculos_junto.to_csv('ine/vehiculos_junto.csv', index=False)"
   ]
  }
 ],
 "metadata": {
  "kernelspec": {
   "display_name": "Python 3",
   "language": "python",
   "name": "python3"
  },
  "language_info": {
   "codemirror_mode": {
    "name": "ipython",
    "version": 3
   },
   "file_extension": ".py",
   "mimetype": "text/x-python",
   "name": "python",
   "nbconvert_exporter": "python",
   "pygments_lexer": "ipython3",
   "version": "3.10.2"
  }
 },
 "nbformat": 4,
 "nbformat_minor": 5
}
